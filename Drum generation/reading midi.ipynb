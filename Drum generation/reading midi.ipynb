{
 "cells": [
  {
   "cell_type": "markdown",
   "metadata": {},
   "source": [
    "The following code is responsible for converting MIDI files into text notation.\n",
    "# I found a way to use the original python library!\n",
    "Reference here: https://github.com/jameswenzel/mydy/blob/master/src/Containers.py\n",
    "https://github.com/jameswenzel/Fractal-Midi/blob/master/script.py\n",
    "https://github.com/vishnubob/python-midi"
   ]
  },
  {
   "cell_type": "code",
   "execution_count": 11,
   "metadata": {},
   "outputs": [
    {
     "name": "stdout",
     "output_type": "stream",
     "text": [
      "mydy.Pattern(format=0, resolution=96, tracks=\\\n",
      "[mydy.Track(relative: True\\\n",
      "  [mydy.TrackNameEvent(tick=0, text='', data=[]),\n",
      "   mydy.TimeSignatureEvent(tick=0, data=[4, 2, 36, 8]),\n",
      "   mydy.TimeSignatureEvent(tick=0, data=[4, 2, 36, 8]),\n",
      "   mydy.NoteOnEvent(tick=0, channel=0, data=[60, 100]),\n",
      "   mydy.NoteOnEvent(tick=0, channel=0, data=[64, 100]),\n",
      "   mydy.NoteOffEvent(tick=384, channel=0, data=[60, 64]),\n",
      "   mydy.NoteOnEvent(tick=0, channel=0, data=[62, 100]),\n",
      "   mydy.NoteOnEvent(tick=0, channel=0, data=[67, 100]),\n",
      "   mydy.NoteOffEvent(tick=384, channel=0, data=[62, 64]),\n",
      "   mydy.NoteOffEvent(tick=0, channel=0, data=[64, 64]),\n",
      "   mydy.NoteOnEvent(tick=0, channel=0, data=[64, 100]),\n",
      "   mydy.NoteOffEvent(tick=0, channel=0, data=[67, 64]),\n",
      "   mydy.NoteOffEvent(tick=384, channel=0, data=[64, 64]),\n",
      "   mydy.NoteOnEvent(tick=0, channel=0, data=[67, 100]),\n",
      "   mydy.NoteOnEvent(tick=384, channel=0, data=[66, 100]),\n",
      "   mydy.NoteOffEvent(tick=0, channel=0, data=[67, 64]),\n",
      "   mydy.NoteOffEvent(tick=384, channel=0, data=[66, 64]),\n",
      "   mydy.NoteOnEvent(tick=0, channel=0, data=[67, 100]),\n",
      "   mydy.NoteOffEvent(tick=384, channel=0, data=[67, 64]),\n",
      "   mydy.NoteOnEvent(tick=0, channel=0, data=[69, 100]),\n",
      "   mydy.NoteOffEvent(tick=384, channel=0, data=[69, 64]),\n",
      "   mydy.NoteOnEvent(tick=0, channel=0, data=[71, 100]),\n",
      "   mydy.NoteOnEvent(tick=384, channel=0, data=[60, 100]),\n",
      "   mydy.NoteOffEvent(tick=0, channel=0, data=[71, 64]),\n",
      "   mydy.NoteOffEvent(tick=384, channel=0, data=[60, 64]),\n",
      "   mydy.NoteOnEvent(tick=0, channel=0, data=[62, 100]),\n",
      "   mydy.NoteOffEvent(tick=384, channel=0, data=[62, 64]),\n",
      "   mydy.NoteOnEvent(tick=0, channel=0, data=[64, 100]),\n",
      "   mydy.NoteOffEvent(tick=375, channel=0, data=[64, 64]),\n",
      "   mydy.NoteOnEvent(tick=9, channel=0, data=[67, 100]),\n",
      "   mydy.NoteOnEvent(tick=384, channel=0, data=[66, 100]),\n",
      "   mydy.NoteOffEvent(tick=0, channel=0, data=[67, 64]),\n",
      "   mydy.NoteOffEvent(tick=384, channel=0, data=[66, 64]),\n",
      "   mydy.NoteOnEvent(tick=0, channel=0, data=[67, 100]),\n",
      "   mydy.NoteOffEvent(tick=384, channel=0, data=[67, 64]),\n",
      "   mydy.NoteOnEvent(tick=0, channel=0, data=[69, 100]),\n",
      "   mydy.NoteOffEvent(tick=384, channel=0, data=[69, 64]),\n",
      "   mydy.NoteOnEvent(tick=0, channel=0, data=[71, 100]),\n",
      "   mydy.NoteOffEvent(tick=384, channel=0, data=[71, 64]),\n",
      "   mydy.EndOfTrackEvent(tick=0, data=[])])])\n",
      "mydy.NoteOnEvent(tick=50, channel=0, data=[30, 50])\n"
     ]
    }
   ],
   "source": [
    "from mydy import Events, FileIO, Containers\n",
    "test=FileIO.read_midifile('file.mid')\n",
    "\n",
    "track = Containers.Track()\n",
    "\n",
    "print(test)\n",
    "\n",
    "on = Events.NoteOnEvent(tick=50, velocity=50, pitch=30)\n",
    "print(on)\n"
   ]
  },
  {
   "cell_type": "code",
   "execution_count": null,
   "metadata": {},
   "outputs": [],
   "source": []
  }
 ],
 "metadata": {
  "kernelspec": {
   "display_name": "Python 3",
   "language": "python",
   "name": "python3"
  },
  "language_info": {
   "codemirror_mode": {
    "name": "ipython",
    "version": 3
   },
   "file_extension": ".py",
   "mimetype": "text/x-python",
   "name": "python",
   "nbconvert_exporter": "python",
   "pygments_lexer": "ipython3",
   "version": "3.7.6"
  }
 },
 "nbformat": 4,
 "nbformat_minor": 4
}
