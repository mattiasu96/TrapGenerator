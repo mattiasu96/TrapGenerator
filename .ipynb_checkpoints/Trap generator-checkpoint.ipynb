{
 "cells": [
  {
   "cell_type": "code",
   "execution_count": 49,
   "metadata": {},
   "outputs": [
    {
     "name": "stdout",
     "output_type": "stream",
     "text": [
      "dataset_dir: C:\\Users\\Mattia\\Desktop\\Polimi\\Magistrale\\Creative Computing\\TrapGenerator\\Classical-Piano-Composer-master/Classical-Piano-Composer-master/midi_songs/bla\n",
      "cwd:C:\\Users\\Mattia\\Desktop\\Polimi\\Magistrale\\Creative Computing\\TrapGenerator\n",
      "['test.mid']\n",
      "<music21.stream.Score 0x1f9fa06e888>\n",
      "{0.0} <music21.stream.Part 0x1f9fc8da7c8>\n",
      "    {0.0} <music21.meter.TimeSignature 4/4>\n",
      "    {0.0} <music21.meter.TimeSignature 4/4>\n",
      "    {0.0} <music21.chord.Chord C3 E3 G3>\n",
      "    {1.0} <music21.note.Note C>\n",
      "    {3.0} <music21.note.Note E>\n",
      "    {4.0} <music21.chord.Chord C3 E3 G3>\n",
      "    {5.0} <music21.note.Note C>\n",
      "    {7.0} <music21.note.Rest rest>\n",
      "    {8.0} <music21.chord.Chord D3 F#3 A3>\n",
      "    {16.0} <music21.chord.Chord F3 A3 C4>\n",
      "    {24.0} <music21.chord.Chord F3 A3 C4>\n",
      "[]\n",
      "chord duration: half\n",
      "note duration: half\n",
      "note duration: half\n",
      "chord duration: quarter\n",
      "note duration: half\n",
      "chord duration: breve\n",
      "chord duration: breve\n",
      "chord duration: breve\n",
      "None\n"
     ]
    }
   ],
   "source": [
    "from music21 import *\n",
    "#configure.run()\n",
    "\n",
    "import os\n",
    "\n",
    "#testing directory access\n",
    "cwd = os.getcwd() #getting current directory\n",
    "dataset_dir = os.path.join(cwd,'Classical-Piano-Composer-master/Classical-Piano-Composer-master/midi_songs/bla')\n",
    "print('dataset_dir: '+dataset_dir)\n",
    "print(\"cwd:\" +cwd)\n",
    "print(os.listdir(dataset_dir))\n",
    "\n",
    "notes = []\n",
    "\n",
    "#funziona, ora devo capire perchè sotto esplode\n",
    "s = converter.parse(r'C:\\Users\\Mattia\\Desktop\\Polimi\\Magistrale\\Creative Computing\\TrapGenerator\\Classical-Piano-Composer-master\\Classical-Piano-Composer-master\\midi_songs\\bla\\test.mid')\n",
    "print(s)\n",
    "s.show('text')\n",
    "#s.show()\n",
    "s_part=instrument.partitionByInstrument(s)\n",
    "#print(len(s_part))\n",
    "#notes=s_part.parts[0].recurse()\n",
    "print(notes)\n",
    "notes = s.flat.notes\n",
    "\n",
    "for element in notes:\n",
    "    if isinstance(element,chord.Chord):\n",
    "        #print(str(element.pitch))\n",
    "        print(\"chord duration: \"+element.duration.type)\n",
    "    if isinstance(element,note.Note):\n",
    "        print(\"note duration: \"+element.duration.type)\n",
    "\n",
    "        \n",
    "\n",
    "print(s_part)\n",
    "\n",
    "#print(len(s_part))\n",
    "\n",
    "#s_part.parts[2] #prendo il mio music object, ne calcolo le parti (strumenti presenti) e lo salvo nella variabile s_part.\n",
    "#dopo con .parts[n] seleziono la parte n-esima. Quindi ad esempio con 0 seleziono il pianoforte, con 1 il basso, 2 la voce, ecc....\n",
    "#Nel codice seguente uso sempre .parts[0] perchè così seleziono il pianoforte in ogni caso "
   ]
  },
  {
   "cell_type": "code",
   "execution_count": 34,
   "metadata": {},
   "outputs": [
    {
     "name": "stdout",
     "output_type": "stream",
     "text": [
      "sto printando file: test.mid\n"
     ]
    }
   ],
   "source": [
    "#load full data\n",
    "notes = []\n",
    "\n",
    "for file in os.listdir(dataset_dir):\n",
    "    print('sto printando file: '+ file)\n",
    "    midi = converter.parse(os.path.join(dataset_dir,file)) #metodo per convertire il midi in formato music21\n",
    "    notes_to_parse = None\n",
    "    parts = instrument.partitionByInstrument(midi) #prende il file midi e vede se è composto da più tracce, cioè strumenti\n",
    "    #print(len(parts.parts))\n",
    "    if parts: # file has instrument parts. Condizione imposta sul \"truthy\" cioè basta che abbia un valore diverso da 0 o null\n",
    "        notes_to_parse = parts.parts[0].recurse()\n",
    "    else: # file has notes in a flat structure\n",
    "        notes_to_parse = midi.flat.notes\n",
    "    for element in notes_to_parse:\n",
    "        if isinstance(element, note.Note):\n",
    "            notes.append(str(element.pitch))\n",
    "        elif isinstance(element, chord.Chord):\n",
    "            notes.append('.'.join(str(n) for n in element.normalOrder))"
   ]
  },
  {
   "cell_type": "code",
   "execution_count": 35,
   "metadata": {},
   "outputs": [
    {
     "name": "stdout",
     "output_type": "stream",
     "text": [
      "['0.4.7', '2.6.9', '5.9.0', '5.9.0']\n"
     ]
    }
   ],
   "source": [
    "print(notes) #nel printing i valori numerici puntati (ad esempio 4.9) indicano un accordo. I singoli numeri indicano la nota\n",
    "#ad esempio lo 0 è un DO, il 2 è un RE e così via, fino a 12.\n"
   ]
  },
  {
   "cell_type": "code",
   "execution_count": null,
   "metadata": {},
   "outputs": [],
   "source": [
    "sequence_length = 100\n",
    "# get all pitch names\n",
    "pitchnames = sorted(set(item for item in notes))\n",
    "\n",
    "# create a dictionary to map pitches to integers\n",
    "note_to_int = dict((note, number) for number, note in enumerate(pitchnames))\n",
    "network_input = []\n",
    "network_output = []\n",
    "# create input sequences and the corresponding outputs\n",
    "for i in range(0, len(notes) - sequence_length, 1):\n",
    "    sequence_in = notes[i:i + sequence_length]\n",
    "    sequence_out = notes[i + sequence_length]\n",
    "    network_input.append([note_to_int[char] for char in sequence_in])\n",
    "    network_output.append(note_to_int[sequence_out])\n",
    "n_patterns = len(network_input)\n",
    "# reshape the input into a format compatible with LSTM layers\n",
    "network_input = numpy.reshape(network_input, (n_patterns, sequence_length, 1))\n",
    "# normalize input\n",
    "network_input = network_input / float(n_vocab)\n",
    "network_output = np_utils.to_categorical(network_output)"
   ]
  }
 ],
 "metadata": {
  "kernelspec": {
   "display_name": "Python 3",
   "language": "python",
   "name": "python3"
  },
  "language_info": {
   "codemirror_mode": {
    "name": "ipython",
    "version": 3
   },
   "file_extension": ".py",
   "mimetype": "text/x-python",
   "name": "python",
   "nbconvert_exporter": "python",
   "pygments_lexer": "ipython3",
   "version": "3.7.4"
  }
 },
 "nbformat": 4,
 "nbformat_minor": 2
}
