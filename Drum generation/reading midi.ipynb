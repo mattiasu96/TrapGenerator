{
 "cells": [
  {
   "cell_type": "markdown",
   "metadata": {},
   "source": [
    "The following code is responsible for converting MIDI files into text notation.\n",
    "# I found a way to use the original python library!\n",
    "Reference here: https://github.com/jameswenzel/mydy/blob/master/src/Containers.py\n",
    "https://github.com/jameswenzel/Fractal-Midi/blob/master/script.py\n",
    "https://github.com/vishnubob/python-midi"
   ]
  },
  {
   "cell_type": "code",
   "execution_count": 67,
   "metadata": {},
   "outputs": [
    {
     "name": "stdout",
     "output_type": "stream",
     "text": [
      "mydy.NoteOnEvent(tick=0, channel=0, data=[60, 100])\n",
      "mydy.Track(relative: False\\\n",
      "  [mydy.NoteOnEvent(tick=0, channel=0, data=[60, 100]),\n",
      "   mydy.NoteOnEvent(tick=0, channel=0, data=[64, 100]),\n",
      "   mydy.NoteOnEvent(tick=384, channel=0, data=[62, 100]),\n",
      "   mydy.NoteOnEvent(tick=384, channel=0, data=[67, 100]),\n",
      "   mydy.NoteOnEvent(tick=768, channel=0, data=[64, 100]),\n",
      "   mydy.NoteOnEvent(tick=1152, channel=0, data=[67, 100]),\n",
      "   mydy.NoteOnEvent(tick=1536, channel=0, data=[66, 100]),\n",
      "   mydy.NoteOnEvent(tick=1920, channel=0, data=[67, 100]),\n",
      "   mydy.NoteOnEvent(tick=2304, channel=0, data=[69, 100]),\n",
      "   mydy.NoteOnEvent(tick=2688, channel=0, data=[71, 100]),\n",
      "   mydy.NoteOnEvent(tick=3072, channel=0, data=[60, 100]),\n",
      "   mydy.NoteOnEvent(tick=3456, channel=0, data=[62, 100]),\n",
      "   mydy.NoteOnEvent(tick=3840, channel=0, data=[64, 100]),\n",
      "   mydy.NoteOnEvent(tick=4224, channel=0, data=[67, 100]),\n",
      "   mydy.NoteOnEvent(tick=4608, channel=0, data=[66, 100]),\n",
      "   mydy.NoteOnEvent(tick=4992, channel=0, data=[67, 100]),\n",
      "   mydy.NoteOnEvent(tick=5376, channel=0, data=[69, 100]),\n",
      "   mydy.NoteOnEvent(tick=5760, channel=0, data=[71, 100])])\n",
      "18\n",
      "100\n",
      "96\n",
      "220\n"
     ]
    }
   ],
   "source": [
    "from mydy import Events, FileIO, Containers\n",
    "test=FileIO.read_midifile('file.mid') #returns a Pattern with the MIDI file information (resolution ecc...), based on documentation https://github.com/jameswenzel/mydy/blob/master/src/FileIO.py\n",
    "\n",
    "track = test[0]\n",
    "track_abs = track.make_ticks_abs()\n",
    "#print(track_abs)\n",
    "\n",
    "print(track_abs[3])\n",
    "\n",
    "filtered_list=track_abs.filter(lambda e: isinstance(e, Events.NoteOnEvent))\n",
    "\n",
    "print(filtered_list)\n",
    "\n",
    "print(len(filtered_list))\n",
    "\n",
    "print(filtered_list[2].data[1])\n",
    "pattern=Containers.Pattern(fmt = 0)\n",
    "print(test.resolution)\n",
    "print(pattern.resolution)\n"
   ]
  },
  {
   "cell_type": "code",
   "execution_count": 3,
   "metadata": {},
   "outputs": [
    {
     "name": "stdout",
     "output_type": "stream",
     "text": [
      "100\n"
     ]
    }
   ],
   "source": [
    "array = [2,3,5,8,100]\n",
    "\n",
    "for n in array:\n",
    "    test = n\n",
    "\n",
    "my_number=n\n",
    "print(my_number)"
   ]
  },
  {
   "cell_type": "code",
   "execution_count": null,
   "metadata": {},
   "outputs": [],
   "source": []
  }
 ],
 "metadata": {
  "kernelspec": {
   "display_name": "Python 3",
   "language": "python",
   "name": "python3"
  },
  "language_info": {
   "codemirror_mode": {
    "name": "ipython",
    "version": 3
   },
   "file_extension": ".py",
   "mimetype": "text/x-python",
   "name": "python",
   "nbconvert_exporter": "python",
   "pygments_lexer": "ipython3",
   "version": "3.7.6"
  }
 },
 "nbformat": 4,
 "nbformat_minor": 4
}
