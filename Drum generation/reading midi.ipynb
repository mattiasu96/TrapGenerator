{
 "cells": [
  {
   "cell_type": "markdown",
   "metadata": {},
   "source": [
    "The following code is responsible for converting MIDI files into text notation.\n",
    "# I found a way to use the original python library!\n",
    "Reference here: https://github.com/jameswenzel/mydy/blob/master/src/Containers.py\n",
    "https://github.com/jameswenzel/Fractal-Midi/blob/master/script.py\n",
    "https://github.com/vishnubob/python-midi\n",
    "\n",
    "# Small test on opening MIDI file"
   ]
  },
  {
   "cell_type": "code",
   "execution_count": 4,
   "metadata": {},
   "outputs": [
    {
     "name": "stdout",
     "output_type": "stream",
     "text": [
      "mydy.NoteOnEvent(tick=0, channel=0, data=[60, 100])\n",
      "mydy.Track(relative: False\\\n",
      "  [mydy.NoteOnEvent(tick=0, channel=0, data=[60, 100]),\n",
      "   mydy.NoteOnEvent(tick=0, channel=0, data=[64, 100]),\n",
      "   mydy.NoteOnEvent(tick=384, channel=0, data=[62, 100]),\n",
      "   mydy.NoteOnEvent(tick=384, channel=0, data=[67, 100]),\n",
      "   mydy.NoteOnEvent(tick=768, channel=0, data=[64, 100]),\n",
      "   mydy.NoteOnEvent(tick=1152, channel=0, data=[67, 100]),\n",
      "   mydy.NoteOnEvent(tick=1536, channel=0, data=[66, 100]),\n",
      "   mydy.NoteOnEvent(tick=1920, channel=0, data=[67, 100]),\n",
      "   mydy.NoteOnEvent(tick=2304, channel=0, data=[69, 100]),\n",
      "   mydy.NoteOnEvent(tick=2688, channel=0, data=[71, 100]),\n",
      "   mydy.NoteOnEvent(tick=3072, channel=0, data=[60, 100]),\n",
      "   mydy.NoteOnEvent(tick=3456, channel=0, data=[62, 100]),\n",
      "   mydy.NoteOnEvent(tick=3840, channel=0, data=[64, 100]),\n",
      "   mydy.NoteOnEvent(tick=4224, channel=0, data=[67, 100]),\n",
      "   mydy.NoteOnEvent(tick=4608, channel=0, data=[66, 100]),\n",
      "   mydy.NoteOnEvent(tick=4992, channel=0, data=[67, 100]),\n",
      "   mydy.NoteOnEvent(tick=5376, channel=0, data=[69, 100]),\n",
      "   mydy.NoteOnEvent(tick=5760, channel=0, data=[71, 100])])\n",
      "18\n",
      "100\n",
      "96\n",
      "220\n"
     ]
    }
   ],
   "source": [
    "from mydy import Events, FileIO, Containers\n",
    "test=FileIO.read_midifile('file.mid') #returns a Pattern with the MIDI file information (resolution ecc...), based on documentation https://github.com/jameswenzel/mydy/blob/master/src/FileIO.py\n",
    "\n",
    "track = test[0]\n",
    "track_abs = track.make_ticks_abs()\n",
    "#print(track_abs)\n",
    "\n",
    "print(track_abs[3])\n",
    "\n",
    "filtered_list=track_abs.filter(lambda e: isinstance(e, Events.NoteOnEvent))\n",
    "\n",
    "print(filtered_list)\n",
    "\n",
    "print(len(filtered_list))\n",
    "\n",
    "print(filtered_list[2].data[1])\n",
    "pattern=Containers.Pattern(fmt = 0)\n",
    "print(test.resolution)\n",
    "print(pattern.resolution)\n"
   ]
  },
  {
   "cell_type": "code",
   "execution_count": 11,
   "metadata": {},
   "outputs": [
    {
     "name": "stdout",
     "output_type": "stream",
     "text": [
      "0\n",
      "60\n",
      "0\n",
      "64\n",
      "384\n",
      "62\n",
      "384\n",
      "67\n",
      "768\n",
      "64\n",
      "1152\n",
      "67\n",
      "1536\n",
      "66\n",
      "1920\n",
      "67\n",
      "2304\n",
      "69\n",
      "2688\n",
      "71\n",
      "3072\n",
      "60\n",
      "3456\n",
      "62\n",
      "3840\n",
      "64\n",
      "4224\n",
      "67\n",
      "4608\n",
      "66\n",
      "4992\n",
      "67\n",
      "5376\n",
      "69\n",
      "5760\n",
      "71\n",
      "printing tuples\n",
      "[(0, 60), (0, 64), (384, 62), (384, 67), (768, 64), (1152, 67), (1536, 66), (1920, 67), (2304, 69), (2688, 71), (3072, 60), (3456, 62), (3840, 64), (4224, 67), (4608, 66), (4992, 67), (5376, 69), (5760, 71)]\n"
     ]
    }
   ],
   "source": [
    "notes = []\n",
    "couple = ()\n",
    "\n",
    "for element in filtered_list:\n",
    "    \n",
    "    print(element.tick)\n",
    "    print(element.data[0])\n",
    "    #storing couples of (tick_time,note_pitch)\n",
    "    notes.append(tuple((element.tick, element.data[0])))\n",
    "\n",
    "print('printing tuples')\n",
    "print(notes)\n"
   ]
  },
  {
   "cell_type": "code",
   "execution_count": null,
   "metadata": {},
   "outputs": [],
   "source": []
  }
 ],
 "metadata": {
  "kernelspec": {
   "display_name": "Python 3",
   "language": "python",
   "name": "python3"
  },
  "language_info": {
   "codemirror_mode": {
    "name": "ipython",
    "version": 3
   },
   "file_extension": ".py",
   "mimetype": "text/x-python",
   "name": "python",
   "nbconvert_exporter": "python",
   "pygments_lexer": "ipython3",
   "version": "3.7.6"
  }
 },
 "nbformat": 4,
 "nbformat_minor": 4
}
